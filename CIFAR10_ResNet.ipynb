{
 "cells": [
  {
   "cell_type": "code",
   "execution_count": 4,
   "id": "a72237e6",
   "metadata": {},
   "outputs": [
    {
     "name": "stdout",
     "output_type": "stream",
     "text": [
      "Files already downloaded and verified\n",
      "Files already downloaded and verified\n"
     ]
    }
   ],
   "source": [
    "import torchvision.datasets as datasets\n",
    "import torchvision.transforms as transforms\n",
    "import torch\n",
    "\n",
    "# データの前処理\n",
    "transform = transforms.Compose([\n",
    "    transforms.RandomHorizontalFlip(),\n",
    "    transforms.RandomCrop(32, padding=4),\n",
    "    transforms.ToTensor(),\n",
    "    transforms.Normalize((0.5, 0.5, 0.5), (0.5, 0.5, 0.5))\n",
    "])\n",
    "\n",
    "# データセットのダウンロード\n",
    "train_dataset = datasets.CIFAR10(root='./data', train=True, transform=transform, download=True)\n",
    "test_dataset = datasets.CIFAR10(root='./data', train=False, transform=transform, download=True)\n",
    "batch_size = len(train_dataset) // 10  # トレーニングデータの10分の1を1バッチとする\n",
    "\n",
    "# DataLoaderの定義\n",
    "train_loader = torch.utils.data.DataLoader(train_dataset, batch_size=batch_size, shuffle=True)\n",
    "test_loader = torch.utils.data.DataLoader(test_dataset, batch_size=batch_size, shuffle=False)"
   ]
  },
  {
   "cell_type": "code",
   "execution_count": 6,
   "id": "0c0dfcf3",
   "metadata": {},
   "outputs": [
    {
     "name": "stdout",
     "output_type": "stream",
     "text": [
      "Files already downloaded and verified\n"
     ]
    },
    {
     "data": {
      "text/plain": [
       "<torch.utils.data.dataloader.DataLoader at 0x24e68277880>"
      ]
     },
     "execution_count": 6,
     "metadata": {},
     "output_type": "execute_result"
    }
   ],
   "source": [
    "datasets.CIFAR10(root='./data', train=True, transform=transform, download=True)\n",
    "torch.utils.data.DataLoader(train_dataset, batch_size=batch_size, shuffle=True)"
   ]
  },
  {
   "cell_type": "code",
   "execution_count": 2,
   "id": "a4b1ff4d",
   "metadata": {},
   "outputs": [
    {
     "name": "stdout",
     "output_type": "stream",
     "text": [
      "Files already downloaded and verified\n",
      "Files already downloaded and verified\n",
      "Epoch [1/100], Loss: 2.1187, Accuracy: 0.2537\n",
      "Epoch [2/100], Loss: 1.5172, Accuracy: 0.4650\n",
      "Epoch [3/100], Loss: 1.2298, Accuracy: 0.5648\n",
      "Epoch [4/100], Loss: 1.0699, Accuracy: 0.6200\n",
      "Epoch [5/100], Loss: 0.9676, Accuracy: 0.6586\n",
      "Epoch [6/100], Loss: 0.9000, Accuracy: 0.6850\n",
      "Epoch [7/100], Loss: 0.8451, Accuracy: 0.7014\n",
      "Epoch [8/100], Loss: 0.7991, Accuracy: 0.7182\n",
      "Epoch [9/100], Loss: 0.7622, Accuracy: 0.7305\n",
      "Epoch [10/100], Loss: 0.7340, Accuracy: 0.7400\n",
      "Epoch [11/100], Loss: 0.7051, Accuracy: 0.7520\n",
      "Epoch [12/100], Loss: 0.6855, Accuracy: 0.7584\n",
      "Epoch [13/100], Loss: 0.6624, Accuracy: 0.7690\n",
      "Epoch [14/100], Loss: 0.6417, Accuracy: 0.7741\n",
      "Epoch [15/100], Loss: 0.6219, Accuracy: 0.7815\n",
      "Epoch [16/100], Loss: 0.6062, Accuracy: 0.7868\n",
      "Epoch [17/100], Loss: 0.5919, Accuracy: 0.7928\n",
      "Epoch [18/100], Loss: 0.5781, Accuracy: 0.7951\n",
      "Epoch [19/100], Loss: 0.5609, Accuracy: 0.8025\n",
      "Epoch [20/100], Loss: 0.5493, Accuracy: 0.8058\n",
      "Epoch [21/100], Loss: 0.5376, Accuracy: 0.8110\n",
      "Epoch [22/100], Loss: 0.5292, Accuracy: 0.8130\n",
      "Epoch [23/100], Loss: 0.5155, Accuracy: 0.8190\n",
      "Epoch [24/100], Loss: 0.5035, Accuracy: 0.8212\n",
      "Epoch [25/100], Loss: 0.4920, Accuracy: 0.8263\n",
      "Epoch [26/100], Loss: 0.4847, Accuracy: 0.8295\n",
      "Epoch [27/100], Loss: 0.4699, Accuracy: 0.8344\n",
      "Epoch [28/100], Loss: 0.4630, Accuracy: 0.8356\n",
      "Epoch [29/100], Loss: 0.4531, Accuracy: 0.8407\n",
      "Epoch [30/100], Loss: 0.4396, Accuracy: 0.8432\n",
      "Epoch [31/100], Loss: 0.4371, Accuracy: 0.8450\n",
      "Epoch [32/100], Loss: 0.4236, Accuracy: 0.8507\n",
      "Epoch [33/100], Loss: 0.4211, Accuracy: 0.8510\n",
      "Epoch [34/100], Loss: 0.4082, Accuracy: 0.8562\n",
      "Epoch [35/100], Loss: 0.3996, Accuracy: 0.8591\n",
      "Epoch [36/100], Loss: 0.3941, Accuracy: 0.8590\n",
      "Epoch [37/100], Loss: 0.3808, Accuracy: 0.8653\n",
      "Epoch [38/100], Loss: 0.3745, Accuracy: 0.8662\n",
      "Epoch [39/100], Loss: 0.3642, Accuracy: 0.8710\n",
      "Epoch [40/100], Loss: 0.3541, Accuracy: 0.8746\n",
      "Epoch [41/100], Loss: 0.3550, Accuracy: 0.8741\n",
      "Epoch [42/100], Loss: 0.3460, Accuracy: 0.8783\n",
      "Epoch [43/100], Loss: 0.3403, Accuracy: 0.8793\n",
      "Epoch [44/100], Loss: 0.3295, Accuracy: 0.8843\n",
      "Epoch [45/100], Loss: 0.3254, Accuracy: 0.8851\n",
      "Epoch [46/100], Loss: 0.3168, Accuracy: 0.8883\n",
      "Epoch [47/100], Loss: 0.3113, Accuracy: 0.8909\n",
      "Epoch [48/100], Loss: 0.3024, Accuracy: 0.8935\n",
      "Epoch [49/100], Loss: 0.2926, Accuracy: 0.8969\n",
      "Epoch [50/100], Loss: 0.2891, Accuracy: 0.8979\n",
      "Epoch [51/100], Loss: 0.2858, Accuracy: 0.8987\n",
      "Epoch [52/100], Loss: 0.2732, Accuracy: 0.9043\n",
      "Epoch [53/100], Loss: 0.2709, Accuracy: 0.9036\n",
      "Epoch [54/100], Loss: 0.2632, Accuracy: 0.9079\n",
      "Epoch [55/100], Loss: 0.2599, Accuracy: 0.9086\n",
      "Epoch [56/100], Loss: 0.2520, Accuracy: 0.9103\n",
      "Epoch [57/100], Loss: 0.2482, Accuracy: 0.9133\n",
      "Epoch [58/100], Loss: 0.2408, Accuracy: 0.9150\n",
      "Epoch [59/100], Loss: 0.2391, Accuracy: 0.9168\n",
      "Epoch [60/100], Loss: 0.2291, Accuracy: 0.9192\n",
      "Epoch [61/100], Loss: 0.2248, Accuracy: 0.9212\n",
      "Epoch [62/100], Loss: 0.2221, Accuracy: 0.9211\n",
      "Epoch [63/100], Loss: 0.2139, Accuracy: 0.9246\n",
      "Epoch [64/100], Loss: 0.2081, Accuracy: 0.9273\n",
      "Epoch [65/100], Loss: 0.1992, Accuracy: 0.9307\n",
      "Epoch [66/100], Loss: 0.2023, Accuracy: 0.9292\n",
      "Epoch [67/100], Loss: 0.2002, Accuracy: 0.9291\n",
      "Epoch [68/100], Loss: 0.1892, Accuracy: 0.9329\n",
      "Epoch [69/100], Loss: 0.1844, Accuracy: 0.9352\n",
      "Epoch [70/100], Loss: 0.1790, Accuracy: 0.9367\n",
      "Epoch [71/100], Loss: 0.1796, Accuracy: 0.9367\n",
      "Epoch [72/100], Loss: 0.1768, Accuracy: 0.9387\n",
      "Epoch [73/100], Loss: 0.1652, Accuracy: 0.9413\n",
      "Epoch [74/100], Loss: 0.1641, Accuracy: 0.9424\n",
      "Epoch [75/100], Loss: 0.1624, Accuracy: 0.9431\n",
      "Epoch [76/100], Loss: 0.1559, Accuracy: 0.9453\n",
      "Epoch [77/100], Loss: 0.1497, Accuracy: 0.9485\n",
      "Epoch [78/100], Loss: 0.1483, Accuracy: 0.9489\n",
      "Epoch [79/100], Loss: 0.1431, Accuracy: 0.9498\n",
      "Epoch [80/100], Loss: 0.1378, Accuracy: 0.9522\n",
      "Epoch [81/100], Loss: 0.1387, Accuracy: 0.9521\n",
      "Epoch [82/100], Loss: 0.1346, Accuracy: 0.9526\n",
      "Epoch [83/100], Loss: 0.1302, Accuracy: 0.9543\n",
      "Epoch [84/100], Loss: 0.1301, Accuracy: 0.9555\n",
      "Epoch [85/100], Loss: 0.1288, Accuracy: 0.9554\n",
      "Epoch [86/100], Loss: 0.1216, Accuracy: 0.9582\n",
      "Epoch [87/100], Loss: 0.1227, Accuracy: 0.9577\n",
      "Epoch [88/100], Loss: 0.1162, Accuracy: 0.9604\n",
      "Epoch [89/100], Loss: 0.1126, Accuracy: 0.9615\n",
      "Epoch [90/100], Loss: 0.1112, Accuracy: 0.9616\n",
      "Epoch [91/100], Loss: 0.1062, Accuracy: 0.9635\n",
      "Epoch [92/100], Loss: 0.1036, Accuracy: 0.9648\n",
      "Epoch [93/100], Loss: 0.1010, Accuracy: 0.9661\n",
      "Epoch [94/100], Loss: 0.1010, Accuracy: 0.9661\n",
      "Epoch [95/100], Loss: 0.0983, Accuracy: 0.9672\n",
      "Epoch [96/100], Loss: 0.0959, Accuracy: 0.9682\n",
      "Epoch [97/100], Loss: 0.0903, Accuracy: 0.9696\n",
      "Epoch [98/100], Loss: 0.0918, Accuracy: 0.9683\n",
      "Epoch [99/100], Loss: 0.0881, Accuracy: 0.9711\n",
      "Epoch [100/100], Loss: 0.0859, Accuracy: 0.9710\n"
     ]
    }
   ],
   "source": [
    "import torch\n",
    "import torch.nn as nn\n",
    "import torchvision.datasets as datasets\n",
    "import torchvision.transforms as transforms\n",
    "import torchvision.models as models\n",
    "\n",
    "# データの前処理\n",
    "transform = transforms.Compose([\n",
    "    transforms.RandomHorizontalFlip(),\n",
    "    transforms.RandomCrop(32, padding=4),\n",
    "    transforms.ToTensor(),\n",
    "    transforms.Normalize((0.5, 0.5, 0.5), (0.5, 0.5, 0.5))\n",
    "])\n",
    "\n",
    "# データセットのダウンロード\n",
    "train_dataset = datasets.CIFAR10(root='./data', train=True, transform=transform, download=True)\n",
    "test_dataset = datasets.CIFAR10(root='./data', train=False, transform=transform, download=True)\n",
    "batch_size = len(train_dataset) // 10  # トレーニングデータの10分の1を1バッチとする\n",
    "num_classes = 10\n",
    "\n",
    "# DataLoaderの定義\n",
    "train_loader = torch.utils.data.DataLoader(train_dataset, batch_size=batch_size, shuffle=True)\n",
    "test_loader = torch.utils.data.DataLoader(test_dataset, batch_size=batch_size, shuffle=False)\n",
    "\n",
    "# モデルの定義\n",
    "class ResNet(nn.Module):\n",
    "    def __init__(self):\n",
    "        super(ResNet, self).__init__()\n",
    "        self.resnet18 = models.resnet18(weights=True)\n",
    "        num_features = self.resnet18.fc.in_features\n",
    "        self.resnet18.fc = nn.Linear(num_features, num_classes)\n",
    "\n",
    "    def forward(self, x):\n",
    "        x = self.resnet18(x)\n",
    "        return x\n",
    "\n",
    "device = torch.device(\"cuda\" if torch.cuda.is_available() else \"cpu\")\n",
    "model = ResNet().to(device)\n",
    "\n",
    "# 損失関数の定義\n",
    "criterion = nn.CrossEntropyLoss()\n",
    "\n",
    "# オプティマイザの定義\n",
    "optimizer = torch.optim.SGD(model.parameters(), lr=0.01, momentum=0.9)\n",
    "\n",
    "# 学習の実行\n",
    "num_epochs = 100\n",
    "for epoch in range(num_epochs):\n",
    "    train_loss = 0.0\n",
    "    train_correct = 0\n",
    "    train_total = 0\n",
    "    model.train()\n",
    "    for i, (images, labels) in enumerate(train_loader):\n",
    "        images = images.to(device)\n",
    "        labels = labels.to(device)\n",
    "        optimizer.zero_grad()\n",
    "        outputs = model(images)\n",
    "        loss = criterion(outputs, labels)\n",
    "        loss.backward()\n",
    "        optimizer.step()\n",
    "        _, predicted = torch.max(outputs.data, 1)\n",
    "        train_total += labels.size(0)\n",
    "        train_correct += (predicted == labels).sum().item()\n",
    "        train_loss += loss.item() * labels.size(0)\n",
    "    train_loss /= train_total\n",
    "    train_acc = train_correct / train_total\n",
    "    print('Epoch [{}/{}], Loss: {:.4f}, Accuracy: {:.4f}'.format(epoch+1, num_epochs, train_loss, train_acc))\n"
   ]
  },
  {
   "cell_type": "code",
   "execution_count": 8,
   "id": "07e666cc",
   "metadata": {},
   "outputs": [
    {
     "name": "stdout",
     "output_type": "stream",
     "text": [
      "Files already downloaded and verified\n",
      "Label: 6\n"
     ]
    },
    {
     "data": {
      "image/png": "[encoded data removed]",
      "text/plain": [
       "<PIL.Image.Image image mode=RGB size=32x32>"
      ]
     },
     "metadata": {},
     "output_type": "display_data"
    },
    {
     "name": "stdout",
     "output_type": "stream",
     "text": [
      "Label: 9\n"
     ]
    },
    {
     "data": {
      "image/png": "[encoded data removed]",
      "text/plain": [
       "<PIL.Image.Image image mode=RGB size=32x32>"
      ]
     },
     "metadata": {},
     "output_type": "display_data"
    },
    {
     "name": "stdout",
     "output_type": "stream",
     "text": [
      "Label: 9\n"
     ]
    },
    {
     "data": {
      "image/png": "[encoded data removed]",
      "text/plain": [
       "<PIL.Image.Image image mode=RGB size=32x32>"
      ]
     },
     "metadata": {},
     "output_type": "display_data"
    },
    {
     "name": "stdout",
     "output_type": "stream",
     "text": [
      "Label: 4\n"
     ]
    },
    {
     "data": {
      "image/png": "[encoded data removed]",
      "text/plain": [
       "<PIL.Image.Image image mode=RGB size=32x32>"
      ]
     },
     "metadata": {},
     "output_type": "display_data"
    },
    {
     "name": "stdout",
     "output_type": "stream",
     "text": [
      "Label: 1\n"
     ]
    },
    {
     "data": {
      "image/png": "[encoded data removed]",
      "text/plain": [
       "<PIL.Image.Image image mode=RGB size=32x32>"
      ]
     },
     "metadata": {},
     "output_type": "display_data"
    },
    {
     "name": "stdout",
     "output_type": "stream",
     "text": [
      "Label: 1\n"
     ]
    },
    {
     "data": {
      "image/png": "[encoded data removed]",
      "text/plain": [
       "<PIL.Image.Image image mode=RGB size=32x32>"
      ]
     },
     "metadata": {},
     "output_type": "display_data"
    },
    {
     "name": "stdout",
     "output_type": "stream",
     "text": [
      "Label: 2\n"
     ]
    },
    {
     "data": {
      "image/png": "[encoded data removed]",
      "text/plain": [
       "<PIL.Image.Image image mode=RGB size=32x32>"
      ]
     },
     "metadata": {},
     "output_type": "display_data"
    },
    {
     "name": "stdout",
     "output_type": "stream",
     "text": [
      "Label: 7\n"
     ]
    },
    {
     "data": {
      "image/png": "[encoded data removed]",
      "text/plain": [
       "<PIL.Image.Image image mode=RGB size=32x32>"
      ]
     },
     "metadata": {},
     "output_type": "display_data"
    },
    {
     "name": "stdout",
     "output_type": "stream",
     "text": [
      "Label: 8\n"
     ]
    },
    {
     "data": {
      "image/png": "[encoded data removed]",
      "text/plain": [
       "<PIL.Image.Image image mode=RGB size=32x32>"
      ]
     },
     "metadata": {},
     "output_type": "display_data"
    },
    {
     "name": "stdout",
     "output_type": "stream",
     "text": [
      "Label: 3\n"
     ]
    },
    {
     "data": {
      "image/png": "[encoded data removed]",
      "text/plain": [
       "<PIL.Image.Image image mode=RGB size=32x32>"
      ]
     },
     "metadata": {},
     "output_type": "display_data"
    }
   ],
   "source": [
    "import torch\n",
    "import torchvision\n",
    "import torchvision.transforms as transforms\n",
    "from PIL import Image\n",
    "import numpy as np\n",
    "from IPython.display import display\n",
    "\n",
    "# CIFAR10のデータセットの読み込み\n",
    "transform = transforms.Compose(\n",
    "    [transforms.ToTensor()])\n",
    "cifar10 = torchvision.datasets.CIFAR10(root='./data', train=True,\n",
    "                                        download=True, transform=transform)\n",
    "\n",
    "# 先頭10個のデータを表示\n",
    "for i in range(10):\n",
    "    image, label = cifar10[i]\n",
    "    print('Label:', label)\n",
    "    np_image = np.transpose(image.numpy(), (1, 2, 0))\n",
    "    pil_image = Image.fromarray((np_image * 255).astype(np.uint8))\n",
    "    display(pil_image)"
   ]
  },
  {
   "cell_type": "code",
   "execution_count": 9,
   "id": "898cd53e",
   "metadata": {},
   "outputs": [
    {
     "data": {
      "text/plain": [
       "tensor([[[0.4902, 0.4314, 0.4000,  ..., 0.7922, 0.7843, 0.7922],\n",
       "         [0.5569, 0.5725, 0.6902,  ..., 0.7647, 0.7765, 0.8000],\n",
       "         [0.7059, 0.5608, 0.6118,  ..., 0.4784, 0.5451, 0.6196],\n",
       "         ...,\n",
       "         [0.4078, 0.3961, 0.3961,  ..., 0.4941, 0.4941, 0.4902],\n",
       "         [0.4078, 0.4118, 0.4275,  ..., 0.5412, 0.5373, 0.5373],\n",
       "         [0.4118, 0.4235, 0.4510,  ..., 0.5608, 0.5608, 0.5647]],\n",
       "\n",
       "        [[0.4902, 0.3961, 0.3529,  ..., 0.8118, 0.8039, 0.8157],\n",
       "         [0.5725, 0.5647, 0.6745,  ..., 0.7882, 0.8039, 0.8275],\n",
       "         [0.7255, 0.5725, 0.6157,  ..., 0.4353, 0.5020, 0.5765],\n",
       "         ...,\n",
       "         [0.3216, 0.3137, 0.3176,  ..., 0.4039, 0.4039, 0.3961],\n",
       "         [0.3176, 0.3294, 0.3451,  ..., 0.4431, 0.4431, 0.4392],\n",
       "         [0.3255, 0.3412, 0.3686,  ..., 0.4588, 0.4549, 0.4549]],\n",
       "\n",
       "        [[0.4549, 0.3569, 0.3255,  ..., 0.8392, 0.8314, 0.8392],\n",
       "         [0.5569, 0.5451, 0.6667,  ..., 0.8039, 0.8196, 0.8431],\n",
       "         [0.7176, 0.5725, 0.6157,  ..., 0.4431, 0.5137, 0.5882],\n",
       "         ...,\n",
       "         [0.1608, 0.1529, 0.1490,  ..., 0.2627, 0.2706, 0.2667],\n",
       "         [0.1569, 0.1608, 0.1686,  ..., 0.3059, 0.3137, 0.3176],\n",
       "         [0.1647, 0.1765, 0.1961,  ..., 0.3216, 0.3294, 0.3373]]])"
      ]
     },
     "execution_count": 9,
     "metadata": {},
     "output_type": "execute_result"
    }
   ],
   "source": [
    "image"
   ]
  }
 ],
 "metadata": {
  "kernelspec": {
   "display_name": "Python 3 (ipykernel)",
   "language": "python",
   "name": "python3"
  },
  "language_info": {
   "codemirror_mode": {
    "name": "ipython",
    "version": 3
   },
   "file_extension": ".py",
   "mimetype": "text/x-python",
   "name": "python",
   "nbconvert_exporter": "python",
   "pygments_lexer": "ipython3",
   "version": "3.9.16"
  }
 },
 "nbformat": 4,
 "nbformat_minor": 5
}
