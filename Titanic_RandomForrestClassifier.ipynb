{
 "cells": [
  {
   "cell_type": "code",
   "execution_count": 3,
   "id": "c30304d4",
   "metadata": {},
   "outputs": [],
   "source": [
    "import pandas as pd\n",
    "import numpy as np\n",
    "from sklearn.model_selection import train_test_split\n",
    "from sklearn.ensemble import RandomForestClassifier\n",
    "\n",
    "train_data = pd.read_csv(r\"C:\\Users\\USER\\Python_Projects\\Titanic\\Datasets\\train.csv\")\n",
    "test_data = pd.read_csv(r\"C:\\Users\\USER\\Python_Projects\\Titanic\\Datasets\\test.csv\")\n",
    "\n",
    "train_data[\"Age\"] = train_data[\"Age\"].fillna(train_data[\"Age\"].median())\n",
    "train_data[\"Embarked\"] = train_data[\"Embarked\"].fillna(\"S\")\n",
    "train_data.loc[train_data[\"Sex\"] == \"male\", \"Sex\"] = 0\n",
    "train_data.loc[train_data[\"Sex\"] == \"female\", \"Sex\"] = 1\n",
    "train_data.loc[train_data[\"Embarked\"] == \"S\", \"Embarked\"] = 0\n",
    "train_data.loc[train_data[\"Embarked\"] == \"C\", \"Embarked\"] = 1\n",
    "train_data.loc[train_data[\"Embarked\"] == \"Q\", \"Embarked\"] = 2\n",
    "\n",
    "test_data[\"Age\"] = test_data[\"Age\"].fillna(test_data[\"Age\"].median())\n",
    "test_data.loc[test_data[\"Sex\"] == \"male\", \"Sex\"] = 0\n",
    "test_data.loc[test_data[\"Sex\"] == \"female\", \"Sex\"] = 1\n",
    "test_data.loc[test_data[\"Embarked\"] == \"S\", \"Embarked\"] = 0\n",
    "test_data.loc[test_data[\"Embarked\"] == \"C\", \"Embarked\"] = 1\n",
    "test_data.loc[test_data[\"Embarked\"] == \"Q\", \"Embarked\"] = 2\n",
    "test_data.loc[152, \"Fare\"] = test_data.Fare.median()\n",
    "\n",
    "train_data = train_data.drop([\"PassengerId\", \"Name\", \"Ticket\", \"Cabin\"], axis = 1)\n",
    "\n",
    "test = test_data.drop([\"PassengerId\", \"Name\", \"Ticket\", \"Cabin\"], axis = 1)\n",
    "\n",
    "x_train = train_data.drop(\"Survived\", axis = 1)\n",
    "y_train = train_data[\"Survived\"]"
   ]
  },
  {
   "cell_type": "code",
   "execution_count": 50,
   "id": "bea2ca97",
   "metadata": {},
   "outputs": [
    {
     "name": "stdout",
     "output_type": "stream",
     "text": [
      "0.9775533108866442\n"
     ]
    }
   ],
   "source": [
    "n_estimators = 1000\n",
    "max_depth = 16\n",
    "\n",
    "rf = RandomForestClassifier(n_estimators = n_estimators, max_depth = max_depth)\n",
    "\n",
    "rf.fit(x_train, y_train)\n",
    "\n",
    "print(rf.score(x_train, y_train))\n",
    "\n",
    "labels = rf.predict(test)\n",
    "submit = pd.DataFrame({\n",
    "    \"PassengerId\": test_data[\"PassengerId\"],\n",
    "    \"Survived\": labels\n",
    "})\n",
    "submit.to_csv('submission.csv', index=False)"
   ]
  }
 ],
 "metadata": {
  "kernelspec": {
   "display_name": "Python 3 (ipykernel)",
   "language": "python",
   "name": "python3"
  },
  "language_info": {
   "codemirror_mode": {
    "name": "ipython",
    "version": 3
   },
   "file_extension": ".py",
   "mimetype": "text/x-python",
   "name": "python",
   "nbconvert_exporter": "python",
   "pygments_lexer": "ipython3",
   "version": "3.9.16"
  }
 },
 "nbformat": 4,
 "nbformat_minor": 5
}
